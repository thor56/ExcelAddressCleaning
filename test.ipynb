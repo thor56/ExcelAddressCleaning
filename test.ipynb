{
 "cells": [
  {
   "cell_type": "code",
   "execution_count": 3,
   "metadata": {},
   "outputs": [],
   "source": [
    "import pandas as pd\n",
    "import pgeocode\n",
    "from geopy.geocoders import Nominatim\n",
    "\n",
    "dict_ = {'monday': 'Mon' , 'tuesday' : 'Tue', 'wednesday': 'Wed','thursday': 'Thu',  'friday': 'Fri','saturday': 'Sat', 'sunday': 'Sun'  }\n",
    "# str = \"Friday:[5AM-12AM], Saturday:[5AM-12AM], Sunday:[5AM-12AM], Monday:[5AM-12AM], Tuesday:[5AM-12AM], Wednesday:[5AM-12AM], Thursday:[5AM-12AM]\"\n",
    "\n",
    "def stemmingWords(sentence):\n",
    "    dictionary = {'monday': 'Mon' , 'tuesday' : 'Tue', 'wednesday': 'Wed'}\n",
    "    return \" \".join([dict_.get(w,w) for w in sentence.replace(\":\",\" : \").replace(\"[\",\" \").replace(\"]\",\" \").replace(\",\",\"<br>\").lower().split()])\n",
    "\n",
    "def separatelocality1(sentence):\n",
    "    return sentence.replace(\", \",\",\").split(\",\")[0]\n",
    "\n",
    "def separatelocality2(sentence):\n",
    "    \n",
    "    lst = sentence.replace(\", \",\",\").split(\",\")\n",
    "    \n",
    "    if len(lst) > 1:\n",
    "        return sentence.replace(\", \",\",\").split(\",\")[1]\n",
    "    return \"\"\n",
    "\n",
    "# (432) 758-2992\n",
    "# <a href=\"tel:+1 432-758-2992\" rel=\"nofollow\">+1 432-758-2992</a>\n",
    "def phonenum(sentence):\n",
    "    sentences = str(sentence)\n",
    "#     return \"<a href=\\\"tel:+1 \" + sentence.replace(\"(\",\"\").replace(\")\",\"-\").replace(\" \",\"\") + \"\\\" rel=\\\"nofollow\\\">+1 432-758-2992</a>\"\n",
    "    return \"<a href=\\\"tel:+1 \" + sentences.replace(\"(\",\"\").replace(\")\",\"-\").replace(\" \",\"\")+ \"\\\" rel=\\\"nofollow\\\">+1 432-758-2992</a>\"\n",
    "\n",
    "# <a href=\"https://www.google.com/maps?cid=3184598461857161322\" target=\"_blank\" rel=\"nofollow\">Get Directions</a>\n",
    "def location(sentence):\n",
    "    sentences = str(sentence)\n",
    "    return \"<a href=\\\"\" + sentences + \"\\\" target=\\\"_blank\\\" rel=\\\"nofollow\\\">Get Directions</a>\"\n",
    "\n"
   ]
  },
  {
   "cell_type": "code",
   "execution_count": 2,
   "metadata": {},
   "outputs": [
    {
     "ename": "FileNotFoundError",
     "evalue": "[Errno 2] No such file or directory: 'Before.csv'",
     "output_type": "error",
     "traceback": [
      "\u001b[1;31m---------------------------------------------------------------------------\u001b[0m",
      "\u001b[1;31mFileNotFoundError\u001b[0m                         Traceback (most recent call last)",
      "\u001b[1;32m<ipython-input-2-c8432225d1ee>\u001b[0m in \u001b[0;36m<module>\u001b[1;34m\u001b[0m\n\u001b[1;32m----> 1\u001b[1;33m \u001b[0mdf\u001b[0m \u001b[1;33m=\u001b[0m \u001b[0mpd\u001b[0m\u001b[1;33m.\u001b[0m\u001b[0mread_csv\u001b[0m\u001b[1;33m(\u001b[0m\u001b[1;34m'Before.csv'\u001b[0m\u001b[1;33m)\u001b[0m\u001b[1;33m\u001b[0m\u001b[1;33m\u001b[0m\u001b[0m\n\u001b[0m\u001b[0;32m      2\u001b[0m \u001b[1;33m\u001b[0m\u001b[0m\n\u001b[0;32m      3\u001b[0m \u001b[0mdf\u001b[0m\u001b[1;33m[\u001b[0m\u001b[1;34m'Opening hours'\u001b[0m\u001b[1;33m]\u001b[0m \u001b[1;33m=\u001b[0m \u001b[0mdf\u001b[0m\u001b[1;33m[\u001b[0m\u001b[1;34m'Opening hours'\u001b[0m\u001b[1;33m]\u001b[0m\u001b[1;33m.\u001b[0m\u001b[0mmap\u001b[0m\u001b[1;33m(\u001b[0m\u001b[0mstemmingWords\u001b[0m\u001b[1;33m)\u001b[0m\u001b[1;33m\u001b[0m\u001b[1;33m\u001b[0m\u001b[0m\n\u001b[0;32m      4\u001b[0m \u001b[0mdf\u001b[0m\u001b[1;33m[\u001b[0m\u001b[1;34m'Pin'\u001b[0m\u001b[1;33m]\u001b[0m \u001b[1;33m=\u001b[0m \u001b[0mdf\u001b[0m\u001b[1;33m[\u001b[0m\u001b[1;34m'State'\u001b[0m\u001b[1;33m]\u001b[0m\u001b[1;33m.\u001b[0m\u001b[0mmap\u001b[0m\u001b[1;33m(\u001b[0m\u001b[0mseparatelocality2\u001b[0m\u001b[1;33m)\u001b[0m\u001b[1;33m\u001b[0m\u001b[1;33m\u001b[0m\u001b[0m\n\u001b[0;32m      5\u001b[0m \u001b[0mdf\u001b[0m\u001b[1;33m[\u001b[0m\u001b[1;34m'State'\u001b[0m\u001b[1;33m]\u001b[0m \u001b[1;33m=\u001b[0m \u001b[0mdf\u001b[0m\u001b[1;33m[\u001b[0m\u001b[1;34m'State'\u001b[0m\u001b[1;33m]\u001b[0m\u001b[1;33m.\u001b[0m\u001b[0mmap\u001b[0m\u001b[1;33m(\u001b[0m\u001b[0mseparatelocality1\u001b[0m\u001b[1;33m)\u001b[0m\u001b[1;33m\u001b[0m\u001b[1;33m\u001b[0m\u001b[0m\n",
      "\u001b[1;32mc:\\users\\ranjith kumar\\appdata\\local\\programs\\python\\python38-32\\lib\\site-packages\\pandas\\io\\parsers.py\u001b[0m in \u001b[0;36mread_csv\u001b[1;34m(filepath_or_buffer, sep, delimiter, header, names, index_col, usecols, squeeze, prefix, mangle_dupe_cols, dtype, engine, converters, true_values, false_values, skipinitialspace, skiprows, skipfooter, nrows, na_values, keep_default_na, na_filter, verbose, skip_blank_lines, parse_dates, infer_datetime_format, keep_date_col, date_parser, dayfirst, cache_dates, iterator, chunksize, compression, thousands, decimal, lineterminator, quotechar, quoting, doublequote, escapechar, comment, encoding, dialect, error_bad_lines, warn_bad_lines, delim_whitespace, low_memory, memory_map, float_precision)\u001b[0m\n\u001b[0;32m    684\u001b[0m     )\n\u001b[0;32m    685\u001b[0m \u001b[1;33m\u001b[0m\u001b[0m\n\u001b[1;32m--> 686\u001b[1;33m     \u001b[1;32mreturn\u001b[0m \u001b[0m_read\u001b[0m\u001b[1;33m(\u001b[0m\u001b[0mfilepath_or_buffer\u001b[0m\u001b[1;33m,\u001b[0m \u001b[0mkwds\u001b[0m\u001b[1;33m)\u001b[0m\u001b[1;33m\u001b[0m\u001b[1;33m\u001b[0m\u001b[0m\n\u001b[0m\u001b[0;32m    687\u001b[0m \u001b[1;33m\u001b[0m\u001b[0m\n\u001b[0;32m    688\u001b[0m \u001b[1;33m\u001b[0m\u001b[0m\n",
      "\u001b[1;32mc:\\users\\ranjith kumar\\appdata\\local\\programs\\python\\python38-32\\lib\\site-packages\\pandas\\io\\parsers.py\u001b[0m in \u001b[0;36m_read\u001b[1;34m(filepath_or_buffer, kwds)\u001b[0m\n\u001b[0;32m    450\u001b[0m \u001b[1;33m\u001b[0m\u001b[0m\n\u001b[0;32m    451\u001b[0m     \u001b[1;31m# Create the parser.\u001b[0m\u001b[1;33m\u001b[0m\u001b[1;33m\u001b[0m\u001b[1;33m\u001b[0m\u001b[0m\n\u001b[1;32m--> 452\u001b[1;33m     \u001b[0mparser\u001b[0m \u001b[1;33m=\u001b[0m \u001b[0mTextFileReader\u001b[0m\u001b[1;33m(\u001b[0m\u001b[0mfp_or_buf\u001b[0m\u001b[1;33m,\u001b[0m \u001b[1;33m**\u001b[0m\u001b[0mkwds\u001b[0m\u001b[1;33m)\u001b[0m\u001b[1;33m\u001b[0m\u001b[1;33m\u001b[0m\u001b[0m\n\u001b[0m\u001b[0;32m    453\u001b[0m \u001b[1;33m\u001b[0m\u001b[0m\n\u001b[0;32m    454\u001b[0m     \u001b[1;32mif\u001b[0m \u001b[0mchunksize\u001b[0m \u001b[1;32mor\u001b[0m \u001b[0miterator\u001b[0m\u001b[1;33m:\u001b[0m\u001b[1;33m\u001b[0m\u001b[1;33m\u001b[0m\u001b[0m\n",
      "\u001b[1;32mc:\\users\\ranjith kumar\\appdata\\local\\programs\\python\\python38-32\\lib\\site-packages\\pandas\\io\\parsers.py\u001b[0m in \u001b[0;36m__init__\u001b[1;34m(self, f, engine, **kwds)\u001b[0m\n\u001b[0;32m    934\u001b[0m             \u001b[0mself\u001b[0m\u001b[1;33m.\u001b[0m\u001b[0moptions\u001b[0m\u001b[1;33m[\u001b[0m\u001b[1;34m\"has_index_names\"\u001b[0m\u001b[1;33m]\u001b[0m \u001b[1;33m=\u001b[0m \u001b[0mkwds\u001b[0m\u001b[1;33m[\u001b[0m\u001b[1;34m\"has_index_names\"\u001b[0m\u001b[1;33m]\u001b[0m\u001b[1;33m\u001b[0m\u001b[1;33m\u001b[0m\u001b[0m\n\u001b[0;32m    935\u001b[0m \u001b[1;33m\u001b[0m\u001b[0m\n\u001b[1;32m--> 936\u001b[1;33m         \u001b[0mself\u001b[0m\u001b[1;33m.\u001b[0m\u001b[0m_make_engine\u001b[0m\u001b[1;33m(\u001b[0m\u001b[0mself\u001b[0m\u001b[1;33m.\u001b[0m\u001b[0mengine\u001b[0m\u001b[1;33m)\u001b[0m\u001b[1;33m\u001b[0m\u001b[1;33m\u001b[0m\u001b[0m\n\u001b[0m\u001b[0;32m    937\u001b[0m \u001b[1;33m\u001b[0m\u001b[0m\n\u001b[0;32m    938\u001b[0m     \u001b[1;32mdef\u001b[0m \u001b[0mclose\u001b[0m\u001b[1;33m(\u001b[0m\u001b[0mself\u001b[0m\u001b[1;33m)\u001b[0m\u001b[1;33m:\u001b[0m\u001b[1;33m\u001b[0m\u001b[1;33m\u001b[0m\u001b[0m\n",
      "\u001b[1;32mc:\\users\\ranjith kumar\\appdata\\local\\programs\\python\\python38-32\\lib\\site-packages\\pandas\\io\\parsers.py\u001b[0m in \u001b[0;36m_make_engine\u001b[1;34m(self, engine)\u001b[0m\n\u001b[0;32m   1166\u001b[0m     \u001b[1;32mdef\u001b[0m \u001b[0m_make_engine\u001b[0m\u001b[1;33m(\u001b[0m\u001b[0mself\u001b[0m\u001b[1;33m,\u001b[0m \u001b[0mengine\u001b[0m\u001b[1;33m=\u001b[0m\u001b[1;34m\"c\"\u001b[0m\u001b[1;33m)\u001b[0m\u001b[1;33m:\u001b[0m\u001b[1;33m\u001b[0m\u001b[1;33m\u001b[0m\u001b[0m\n\u001b[0;32m   1167\u001b[0m         \u001b[1;32mif\u001b[0m \u001b[0mengine\u001b[0m \u001b[1;33m==\u001b[0m \u001b[1;34m\"c\"\u001b[0m\u001b[1;33m:\u001b[0m\u001b[1;33m\u001b[0m\u001b[1;33m\u001b[0m\u001b[0m\n\u001b[1;32m-> 1168\u001b[1;33m             \u001b[0mself\u001b[0m\u001b[1;33m.\u001b[0m\u001b[0m_engine\u001b[0m \u001b[1;33m=\u001b[0m \u001b[0mCParserWrapper\u001b[0m\u001b[1;33m(\u001b[0m\u001b[0mself\u001b[0m\u001b[1;33m.\u001b[0m\u001b[0mf\u001b[0m\u001b[1;33m,\u001b[0m \u001b[1;33m**\u001b[0m\u001b[0mself\u001b[0m\u001b[1;33m.\u001b[0m\u001b[0moptions\u001b[0m\u001b[1;33m)\u001b[0m\u001b[1;33m\u001b[0m\u001b[1;33m\u001b[0m\u001b[0m\n\u001b[0m\u001b[0;32m   1169\u001b[0m         \u001b[1;32melse\u001b[0m\u001b[1;33m:\u001b[0m\u001b[1;33m\u001b[0m\u001b[1;33m\u001b[0m\u001b[0m\n\u001b[0;32m   1170\u001b[0m             \u001b[1;32mif\u001b[0m \u001b[0mengine\u001b[0m \u001b[1;33m==\u001b[0m \u001b[1;34m\"python\"\u001b[0m\u001b[1;33m:\u001b[0m\u001b[1;33m\u001b[0m\u001b[1;33m\u001b[0m\u001b[0m\n",
      "\u001b[1;32mc:\\users\\ranjith kumar\\appdata\\local\\programs\\python\\python38-32\\lib\\site-packages\\pandas\\io\\parsers.py\u001b[0m in \u001b[0;36m__init__\u001b[1;34m(self, src, **kwds)\u001b[0m\n\u001b[0;32m   1996\u001b[0m         \u001b[0mkwds\u001b[0m\u001b[1;33m[\u001b[0m\u001b[1;34m\"usecols\"\u001b[0m\u001b[1;33m]\u001b[0m \u001b[1;33m=\u001b[0m \u001b[0mself\u001b[0m\u001b[1;33m.\u001b[0m\u001b[0musecols\u001b[0m\u001b[1;33m\u001b[0m\u001b[1;33m\u001b[0m\u001b[0m\n\u001b[0;32m   1997\u001b[0m \u001b[1;33m\u001b[0m\u001b[0m\n\u001b[1;32m-> 1998\u001b[1;33m         \u001b[0mself\u001b[0m\u001b[1;33m.\u001b[0m\u001b[0m_reader\u001b[0m \u001b[1;33m=\u001b[0m \u001b[0mparsers\u001b[0m\u001b[1;33m.\u001b[0m\u001b[0mTextReader\u001b[0m\u001b[1;33m(\u001b[0m\u001b[0msrc\u001b[0m\u001b[1;33m,\u001b[0m \u001b[1;33m**\u001b[0m\u001b[0mkwds\u001b[0m\u001b[1;33m)\u001b[0m\u001b[1;33m\u001b[0m\u001b[1;33m\u001b[0m\u001b[0m\n\u001b[0m\u001b[0;32m   1999\u001b[0m         \u001b[0mself\u001b[0m\u001b[1;33m.\u001b[0m\u001b[0munnamed_cols\u001b[0m \u001b[1;33m=\u001b[0m \u001b[0mself\u001b[0m\u001b[1;33m.\u001b[0m\u001b[0m_reader\u001b[0m\u001b[1;33m.\u001b[0m\u001b[0munnamed_cols\u001b[0m\u001b[1;33m\u001b[0m\u001b[1;33m\u001b[0m\u001b[0m\n\u001b[0;32m   2000\u001b[0m \u001b[1;33m\u001b[0m\u001b[0m\n",
      "\u001b[1;32mpandas\\_libs\\parsers.pyx\u001b[0m in \u001b[0;36mpandas._libs.parsers.TextReader.__cinit__\u001b[1;34m()\u001b[0m\n",
      "\u001b[1;32mpandas\\_libs\\parsers.pyx\u001b[0m in \u001b[0;36mpandas._libs.parsers.TextReader._setup_parser_source\u001b[1;34m()\u001b[0m\n",
      "\u001b[1;31mFileNotFoundError\u001b[0m: [Errno 2] No such file or directory: 'Before.csv'"
     ]
    }
   ],
   "source": [
    "df = pd.read_csv('Before.csv')\n",
    "\n",
    "df['Opening hours'] = df['Opening hours'].map(stemmingWords)\n",
    "df['Pin'] = df['State'].map(separatelocality2)\n",
    "df['State'] = df['State'].map(separatelocality1)\n",
    "df['Phone Number'] = df['Phone Number'].map(phonenum)\n",
    "df['Name, State,Pin'] = df['Name'] + \", \" + df['State'] + \", \" +  df['Pin'] \n",
    "df['Location'] = df['Location'].map(location)\n",
    "\n",
    "\n",
    "\n"
   ]
  },
  {
   "cell_type": "code",
   "execution_count": 3,
   "metadata": {},
   "outputs": [
    {
     "name": "stdout",
     "output_type": "stream",
     "text": [
      "Mon : 5am-12am <br> Tue : 5am-12am <br> Wed : 5am-12am <br> Thu : 5am-12am <br> Fri : 5am-12am <br> Sat : 5am-12am <br> Sun : 5am-12am\n"
     ]
    }
   ],
   "source": [
    "req = \"Friday:[5AM-12AM], Saturday:[5AM-12AM], Sunday:[5AM-12AM], Monday:[5AM-12AM], Tuesday:[5AM-12AM], Wednesday:[5AM-12AM], Thursday:[5AM-12AM]\"\n",
    "\n",
    "\n",
    "\n",
    "\n",
    "str2 = \" \".join([dict_.get(w,w) for w in req.replace(\":\",\" : \").replace(\"[\",\" \").replace(\"]\",\" \").replace(\",\",\"<br>\").lower().split()])\n",
    "lst2 = str2.split(\" <br> \")\n",
    "\n",
    "\n",
    "dict2 = dict()\n",
    "for x in lst2:\n",
    "    dict2[x[:3]] = x\n",
    "\n",
    "\n",
    "l = [] \n",
    "for x in dict_: \n",
    "    l.append(dict2[dict_[x]])\n",
    "\n",
    "print(\" <br> \".join(l))\n",
    "\n",
    "    \n",
    "\n",
    "\n"
   ]
  },
  {
   "cell_type": "code",
   "execution_count": 2,
   "metadata": {},
   "outputs": [],
   "source": [
    "str12 = \"Monday : 5 : 30am-11pm\""
   ]
  },
  {
   "cell_type": "code",
   "execution_count": 4,
   "metadata": {},
   "outputs": [
    {
     "data": {
      "text/plain": [
       "['Monday ', ' 5 : 30am-11pm']"
      ]
     },
     "execution_count": 4,
     "metadata": {},
     "output_type": "execute_result"
    }
   ],
   "source": [
    "str12.split(\":\",1)"
   ]
  },
  {
   "cell_type": "code",
   "execution_count": 4,
   "metadata": {},
   "outputs": [],
   "source": [
    "sentences = '158 Front St, Evanston, WY 82930, United States'\n",
    "\n",
    "geolocator = Nominatim(user_agent=\"geoapiExercises\")\n",
    "location = geolocator.geocode(sentences, addressdetails=True)"
   ]
  },
  {
   "cell_type": "code",
   "execution_count": 5,
   "metadata": {},
   "outputs": [
    {
     "data": {
      "text/plain": [
       "Location(158, Front Street, Evanston, Uinta County, Wyoming, 82930, United States, (41.262675183673466, -110.95691557142857, 0.0))"
      ]
     },
     "execution_count": 5,
     "metadata": {},
     "output_type": "execute_result"
    }
   ],
   "source": [
    "location"
   ]
  },
  {
   "cell_type": "code",
   "execution_count": 6,
   "metadata": {},
   "outputs": [
    {
     "data": {
      "text/plain": [
       "'Wyoming'"
      ]
     },
     "execution_count": 6,
     "metadata": {},
     "output_type": "execute_result"
    }
   ],
   "source": [
    "location.raw['address']['state']"
   ]
  },
  {
   "cell_type": "code",
   "execution_count": 59,
   "metadata": {},
   "outputs": [
    {
     "data": {
      "text/plain": [
       "' Tatsuno,  Inatomi,  羽場７８３１−７'"
      ]
     },
     "execution_count": 59,
     "metadata": {},
     "output_type": "execute_result"
    }
   ],
   "source": []
  },
  {
   "cell_type": "code",
   "execution_count": 56,
   "metadata": {},
   "outputs": [],
   "source": [
    "\n",
    "def fetchState(sentence):\n",
    "    sentences = str(sentence)\n",
    "    if sentences == \"\" or sentences.lower == \"nan\":\n",
    "        return \"none\"\n",
    "    # address is a String e.g. 'Berlin, Germany'\n",
    "    # addressdetails=True does the magic and gives you also the details\n",
    "    # location = geolocator.geocode(address, addressdetails=True)\n",
    "    # print(location.raw)\n",
    "    geolocator = Nominatim(user_agent=\"geoapiExercises\")\n",
    "    location = geolocator.geocode(\", \".join(sentences.split(\",\")[-2:]), addressdetails=True)\n",
    "\n",
    "    return str(location.raw['address']['state'])\n",
    "\n"
   ]
  },
  {
   "cell_type": "code",
   "execution_count": 61,
   "metadata": {},
   "outputs": [
    {
     "ename": "AttributeError",
     "evalue": "'NoneType' object has no attribute 'raw'",
     "output_type": "error",
     "traceback": [
      "\u001b[1;31m---------------------------------------------------------------------------\u001b[0m",
      "\u001b[1;31mAttributeError\u001b[0m                            Traceback (most recent call last)",
      "\u001b[1;32m<ipython-input-61-391b8f31404a>\u001b[0m in \u001b[0;36m<module>\u001b[1;34m\u001b[0m\n\u001b[1;32m----> 1\u001b[1;33m \u001b[0mfetchState\u001b[0m\u001b[1;33m(\u001b[0m\u001b[1;34m'Tatsuno,  Inatomi,  羽場７８３１−７'\u001b[0m\u001b[1;33m)\u001b[0m\u001b[1;33m\u001b[0m\u001b[1;33m\u001b[0m\u001b[0m\n\u001b[0m",
      "\u001b[1;32m<ipython-input-56-41661d69b22a>\u001b[0m in \u001b[0;36mfetchState\u001b[1;34m(sentence)\u001b[0m\n\u001b[0;32m     10\u001b[0m     \u001b[0mlocation\u001b[0m \u001b[1;33m=\u001b[0m \u001b[0mgeolocator\u001b[0m\u001b[1;33m.\u001b[0m\u001b[0mgeocode\u001b[0m\u001b[1;33m(\u001b[0m\u001b[1;34m\", \"\u001b[0m\u001b[1;33m.\u001b[0m\u001b[0mjoin\u001b[0m\u001b[1;33m(\u001b[0m\u001b[0msentences\u001b[0m\u001b[1;33m.\u001b[0m\u001b[0msplit\u001b[0m\u001b[1;33m(\u001b[0m\u001b[1;34m\",\"\u001b[0m\u001b[1;33m)\u001b[0m\u001b[1;33m[\u001b[0m\u001b[1;33m-\u001b[0m\u001b[1;36m2\u001b[0m\u001b[1;33m:\u001b[0m\u001b[1;33m]\u001b[0m\u001b[1;33m)\u001b[0m\u001b[1;33m,\u001b[0m \u001b[0maddressdetails\u001b[0m\u001b[1;33m=\u001b[0m\u001b[1;32mTrue\u001b[0m\u001b[1;33m)\u001b[0m\u001b[1;33m\u001b[0m\u001b[1;33m\u001b[0m\u001b[0m\n\u001b[0;32m     11\u001b[0m \u001b[1;33m\u001b[0m\u001b[0m\n\u001b[1;32m---> 12\u001b[1;33m     \u001b[1;32mreturn\u001b[0m \u001b[0mstr\u001b[0m\u001b[1;33m(\u001b[0m\u001b[0mlocation\u001b[0m\u001b[1;33m.\u001b[0m\u001b[0mraw\u001b[0m\u001b[1;33m[\u001b[0m\u001b[1;34m'address'\u001b[0m\u001b[1;33m]\u001b[0m\u001b[1;33m[\u001b[0m\u001b[1;34m'state'\u001b[0m\u001b[1;33m]\u001b[0m\u001b[1;33m)\u001b[0m\u001b[1;33m\u001b[0m\u001b[1;33m\u001b[0m\u001b[0m\n\u001b[0m\u001b[0;32m     13\u001b[0m \u001b[1;33m\u001b[0m\u001b[0m\n",
      "\u001b[1;31mAttributeError\u001b[0m: 'NoneType' object has no attribute 'raw'"
     ]
    }
   ],
   "source": [
    "fetchState('Tatsuno,  Inatomi,  羽場７８３１−７')"
   ]
  },
  {
   "cell_type": "code",
   "execution_count": 114,
   "metadata": {},
   "outputs": [
    {
     "name": "stdout",
     "output_type": "stream",
     "text": [
      "Wyoming\n"
     ]
    }
   ],
   "source": [
    "# nomi = pgeocode.Nominatim('us')\n",
    "# nomi.query_postal_code(\"82933\")['state_name']\n",
    "x = '40 SE Wyoming Blvd, Casper, WY 82609, United States'\n",
    "nomi = pgeocode.Nominatim('us')\n",
    "state_name = nomi.query_postal_code(str(x.split(\",\")[-2].split(\" \")[-1]))['state_name']\n",
    "print(state_name)"
   ]
  },
  {
   "cell_type": "code",
   "execution_count": null,
   "metadata": {},
   "outputs": [],
   "source": [
    "x.split(\",\")[-2]\n",
    "\n"
   ]
  },
  {
   "cell_type": "code",
   "execution_count": 11,
   "metadata": {},
   "outputs": [],
   "source": [
    "\n",
    "def fetch(col1, col2):\n",
    "    geolocator = Nominatim(user_agent=\"geoapiExercises\")\n",
    "    location = geolocator.reverse(str(col1)+\",\"+str(col2))\n",
    "    return location.raw['address']['state']\n",
    "    \n",
    "\n"
   ]
  },
  {
   "cell_type": "code",
   "execution_count": 5,
   "metadata": {},
   "outputs": [],
   "source": [
    "df2 = pd.read_csv('K.csv')\n"
   ]
  },
  {
   "cell_type": "code",
   "execution_count": 9,
   "metadata": {},
   "outputs": [],
   "source": [
    "df2['nnnew'] = df2.apply(lambda x: fetch(x['Latitude'], x['Longitude']), axis=1)"
   ]
  },
  {
   "cell_type": "code",
   "execution_count": 10,
   "metadata": {},
   "outputs": [
    {
     "name": "stdout",
     "output_type": "stream",
     "text": [
      "           Name                                      Fulladdress  \\\n",
      "0    McDonald's         812 Minnesota Ave, Kansas City, KS 66101   \n",
      "1    McDonald's            7530 State Ave, Kansas City, KS 66112   \n",
      "2    McDonald's              3255 Main St, Kansas City, MO 64111   \n",
      "3    McDonald's       10555 Parallel Pkwy, Kansas City, KS 66111   \n",
      "4    McDonald's             302 W 11th St, Coffeyville, KS 67337   \n",
      "..          ...                                              ...   \n",
      "126  McDonald's     4002 N Oak Trafficway, Kansas City, MO 64116   \n",
      "127  McDonald's              1435 S Fossil St, Russell, KS 67665   \n",
      "128  McDonald's  6996 Eastwood Trafficway, Kansas City, MO 64129   \n",
      "129  McDonald's      2200 Vernon St, North Kansas City, MO 64116   \n",
      "130  McDonald's           9551 N McGee St, Kansas City, MO 64155   \n",
      "\n",
      "                       Street  \\\n",
      "0           812 Minnesota Ave   \n",
      "1              7530 State Ave   \n",
      "2                3255 Main St   \n",
      "3         10555 Parallel Pkwy   \n",
      "4               302 W 11th St   \n",
      "..                        ...   \n",
      "126     4002 N Oak Trafficway   \n",
      "127          1435 S Fossil St   \n",
      "128  6996 Eastwood Trafficway   \n",
      "129            2200 Vernon St   \n",
      "130           9551 N McGee St   \n",
      "\n",
      "                                            Categories           Phone  \\\n",
      "0    Fast food restaurant,Breakfast restaurant,Coff...  (913) 321-0542   \n",
      "1    Fast food restaurant,Breakfast restaurant,Coff...  (913) 334-1400   \n",
      "2    Fast food restaurant,Breakfast restaurant,Coff...  (816) 753-3840   \n",
      "3    Fast food restaurant,Breakfast restaurant,Coff...  (913) 299-9600   \n",
      "4    Fast food restaurant,Breakfast restaurant,Coff...  (620) 251-3330   \n",
      "..                                                 ...             ...   \n",
      "126  Fast food restaurant,Breakfast restaurant,Coff...  (816) 453-3399   \n",
      "127  Fast food restaurant,Breakfast restaurant,Coff...  (785) 483-6554   \n",
      "128  Fast food restaurant,Breakfast restaurant,Coff...  (816) 923-2141   \n",
      "129  Fast food restaurant,Breakfast restaurant,Coff...  (816) 471-6400   \n",
      "130  Fast food restaurant,Breakfast restaurant,Coff...  (816) 436-2398   \n",
      "\n",
      "     Review Count  Average Rating  \\\n",
      "0            1605             3.5   \n",
      "1            2389             3.4   \n",
      "2            2255             3.2   \n",
      "3            1578             3.6   \n",
      "4            1296             3.4   \n",
      "..            ...             ...   \n",
      "126           956             3.2   \n",
      "127           796             3.6   \n",
      "128          1297             3.3   \n",
      "129          2535             3.3   \n",
      "130          1072             3.4   \n",
      "\n",
      "                                            Review URL  \\\n",
      "0    https://search.google.com/local/reviews?placei...   \n",
      "1    https://search.google.com/local/reviews?placei...   \n",
      "2    https://search.google.com/local/reviews?placei...   \n",
      "3    https://search.google.com/local/reviews?placei...   \n",
      "4    https://search.google.com/local/reviews?placei...   \n",
      "..                                                 ...   \n",
      "126  https://search.google.com/local/reviews?placei...   \n",
      "127  https://search.google.com/local/reviews?placei...   \n",
      "128  https://search.google.com/local/reviews?placei...   \n",
      "129  https://search.google.com/local/reviews?placei...   \n",
      "130  https://search.google.com/local/reviews?placei...   \n",
      "\n",
      "                                       Google Maps URL   Latitude  Longitude  \\\n",
      "0    https://www.google.com/maps?cid=58816735513228...  39.115764 -94.630651   \n",
      "1    https://www.google.com/maps?cid=18391924605218...  39.116873 -94.754743   \n",
      "2    https://www.google.com/maps?cid=21402142768725...  39.066983 -94.584995   \n",
      "3    https://www.google.com/maps?cid=17468857001483...  39.128077 -94.824506   \n",
      "4    https://www.google.com/maps?cid=17703540856359...  37.033289 -95.619456   \n",
      "..                                                 ...        ...        ...   \n",
      "126  https://www.google.com/maps?cid=12204556935253...  39.167431 -94.577164   \n",
      "127  https://www.google.com/maps?cid=11229620475235...  38.865392 -98.853608   \n",
      "128  https://www.google.com/maps?cid=17655130214841...  39.031371 -94.503598   \n",
      "129  https://www.google.com/maps?cid=57570380515350...  39.146285 -94.556886   \n",
      "130  https://www.google.com/maps?cid=13112037688771...  39.265479 -94.576468   \n",
      "\n",
      "                                         Opening hours     nnnew  \n",
      "0    Wednesday:[5AM-11PM], Thursday:[5AM-11PM], Fri...    Kansas  \n",
      "1    Wednesday:[Open 24 hours], Thursday:[Open 24 h...    Kansas  \n",
      "2    Wednesday:[Open 24 hours], Thursday:[Open 24 h...  Missouri  \n",
      "3    Wednesday:[5AM-1AM], Thursday:[5AM-1AM], Frida...    Kansas  \n",
      "4    Wednesday:[5AM-11PM], Thursday:[5AM-11PM], Fri...    Kansas  \n",
      "..                                                 ...       ...  \n",
      "126  Wednesday:[5AM-11PM], Thursday:[5AM-11PM], Fri...  Missouri  \n",
      "127  Wednesday:[6AM-11PM], Thursday:[6AM-11PM], Fri...    Kansas  \n",
      "128  Wednesday:[5AM-11PM], Thursday:[5AM-11PM], Fri...  Missouri  \n",
      "129  Wednesday:[Open 24 hours], Thursday:[Open 24 h...  Missouri  \n",
      "130  Wednesday:[5AM-11PM], Thursday:[5AM-11PM], Fri...  Missouri  \n",
      "\n",
      "[131 rows x 13 columns]\n"
     ]
    }
   ],
   "source": [
    "print(df2)"
   ]
  },
  {
   "cell_type": "code",
   "execution_count": null,
   "metadata": {},
   "outputs": [],
   "source": []
  }
 ],
 "metadata": {
  "kernelspec": {
   "display_name": "Python 3",
   "language": "python",
   "name": "python3"
  },
  "language_info": {
   "codemirror_mode": {
    "name": "ipython",
    "version": 3
   },
   "file_extension": ".py",
   "mimetype": "text/x-python",
   "name": "python",
   "nbconvert_exporter": "python",
   "pygments_lexer": "ipython3",
   "version": "3.8.4"
  }
 },
 "nbformat": 4,
 "nbformat_minor": 4
}
