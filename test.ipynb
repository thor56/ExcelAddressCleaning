{
 "cells": [
  {
   "cell_type": "code",
   "execution_count": 7,
   "metadata": {},
   "outputs": [],
   "source": [
    "import pandas as pd\n",
    "\n",
    "dict_ = {'monday': 'Mon' , 'tuesday' : 'Tue', 'wednesday': 'Wed','thursday': 'Thu',  'friday': 'Fri','saturday': 'Sat', 'sunday': 'Sun'  }\n",
    "# str = \"Friday:[5AM-12AM], Saturday:[5AM-12AM], Sunday:[5AM-12AM], Monday:[5AM-12AM], Tuesday:[5AM-12AM], Wednesday:[5AM-12AM], Thursday:[5AM-12AM]\"\n",
    "\n",
    "def stemmingWords(sentence):\n",
    "    dictionary = {'monday': 'Mon' , 'tuesday' : 'Tue', 'wednesday': 'Wed'}\n",
    "    return \" \".join([dict_.get(w,w) for w in sentence.replace(\":\",\" : \").replace(\"[\",\" \").replace(\"]\",\" \").replace(\",\",\"<br>\").lower().split()])\n",
    "\n",
    "def separatelocality1(sentence):\n",
    "    return sentence.replace(\", \",\",\").split(\",\")[0]\n",
    "\n",
    "def separatelocality2(sentence):\n",
    "    \n",
    "    lst = sentence.replace(\", \",\",\").split(\",\")\n",
    "    \n",
    "    if len(lst) > 1:\n",
    "        return sentence.replace(\", \",\",\").split(\",\")[1]\n",
    "    return \"\"\n",
    "\n",
    "# (432) 758-2992\n",
    "# <a href=\"tel:+1 432-758-2992\" rel=\"nofollow\">+1 432-758-2992</a>\n",
    "def phonenum(sentence):\n",
    "    sentences = str(sentence)\n",
    "#     return \"<a href=\\\"tel:+1 \" + sentence.replace(\"(\",\"\").replace(\")\",\"-\").replace(\" \",\"\") + \"\\\" rel=\\\"nofollow\\\">+1 432-758-2992</a>\"\n",
    "    return \"<a href=\\\"tel:+1 \" + sentences.replace(\"(\",\"\").replace(\")\",\"-\").replace(\" \",\"\")+ \"\\\" rel=\\\"nofollow\\\">+1 432-758-2992</a>\"\n",
    "\n",
    "# <a href=\"https://www.google.com/maps?cid=3184598461857161322\" target=\"_blank\" rel=\"nofollow\">Get Directions</a>\n",
    "def location(sentence):\n",
    "    sentences = str(sentence)\n",
    "    return \"<a href=\\\"\" + sentences + \"\\\" target=\\\"_blank\\\" rel=\\\"nofollow\\\">Get Directions</a>\"\n",
    "\n"
   ]
  },
  {
   "cell_type": "code",
   "execution_count": 8,
   "metadata": {},
   "outputs": [],
   "source": [
    "df = pd.read_csv('Before.csv')\n",
    "\n",
    "df['Opening hours'] = df['Opening hours'].map(stemmingWords)\n",
    "df['Pin'] = df['State'].map(separatelocality2)\n",
    "df['State'] = df['State'].map(separatelocality1)\n",
    "df['Phone Number'] = df['Phone Number'].map(phonenum)\n",
    "df['Name, State,Pin'] = df['Name'] + \", \" + df['State'] + \", \" +  df['Pin'] \n",
    "df['Location'] = df['Location'].map(location)\n",
    "\n",
    "\n",
    "\n"
   ]
  },
  {
   "cell_type": "code",
   "execution_count": 13,
   "metadata": {},
   "outputs": [
    {
     "name": "stdout",
     "output_type": "stream",
     "text": [
      "Mon : 5am-12am <br> Tue : 5am-12am <br> Wed : 5am-12am <br> Thu : 5am-12am <br> Fri : 5am-12am <br> Sat : 5am-12am <br> Sun : 5am-12am\n"
     ]
    }
   ],
   "source": [
    "req = \"Friday:[5AM-12AM], Saturday:[5AM-12AM], Sunday:[5AM-12AM], Monday:[5AM-12AM], Tuesday:[5AM-12AM], Wednesday:[5AM-12AM], Thursday:[5AM-12AM]\"\n",
    "\n",
    "\n",
    "\n",
    "\n",
    "str2 = \" \".join([dict_.get(w,w) for w in req.replace(\":\",\" : \").replace(\"[\",\" \").replace(\"]\",\" \").replace(\",\",\"<br>\").lower().split()])\n",
    "lst2 = str2.split(\" <br> \")\n",
    "\n",
    "\n",
    "dict2 = dict()\n",
    "for x in lst2:\n",
    "    dict2[x[:3]] = x\n",
    "\n",
    "\n",
    "l = [] \n",
    "for x in dict_: \n",
    "    l.append(dict2[dict_[x]])\n",
    "\n",
    "print(\" <br> \".join(l))\n",
    "\n",
    "    \n",
    "\n",
    "\n"
   ]
  },
  {
   "cell_type": "code",
   "execution_count": null,
   "metadata": {},
   "outputs": [],
   "source": []
  },
  {
   "cell_type": "code",
   "execution_count": null,
   "metadata": {},
   "outputs": [],
   "source": []
  }
 ],
 "metadata": {
  "kernelspec": {
   "display_name": "Python 3",
   "language": "python",
   "name": "python3"
  },
  "language_info": {
   "codemirror_mode": {
    "name": "ipython",
    "version": 3
   },
   "file_extension": ".py",
   "mimetype": "text/x-python",
   "name": "python",
   "nbconvert_exporter": "python",
   "pygments_lexer": "ipython3",
   "version": "3.8.4"
  }
 },
 "nbformat": 4,
 "nbformat_minor": 4
}
